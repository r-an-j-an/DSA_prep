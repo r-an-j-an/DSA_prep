{
 "cells": [
  {
   "cell_type": "markdown",
   "metadata": {},
   "source": [
    "# Recursion  \n",
    "\n",
    "The Recursion is Based on PMI-Principles of Mathematical Induction,where we assume that p(1) and p(k) is true and try to prove that p(k+1) is True."
   ]
  },
  {
   "cell_type": "markdown",
   "metadata": {},
   "source": [
    "## Factorial  \n",
    "  \n",
    "### Forward->  \n",
    ">Fact(n) calls fact(n-1)  \n",
    ">Fact(n-1) calls fact(n-2)  \n",
    ">Fact(n-2) calls fact(n-3)  \n",
    ">...  \n",
    ">...  \n",
    ">...  \n",
    ">Fact(1) calls fact(0)  \n",
    "  \n",
    "  \n",
    "### Backward->  \n",
    ">Fact(0) return 1  \n",
    ">Fact(1) returns 1*1  \n",
    ">Fact(2) return 2*1*1  \n",
    ">...  \n",
    ">...  \n",
    ">...  \n",
    ">Fact(n) returns n*n-1*n-2*n-3.....*2*1*1\n",
    "    \n",
    "which is nothing but the Factorial of n  "
   ]
  },
  {
   "cell_type": "code",
   "execution_count": 1,
   "metadata": {},
   "outputs": [
    {
     "data": {
      "text/plain": [
       "120"
      ]
     },
     "execution_count": 1,
     "metadata": {},
     "output_type": "execute_result"
    }
   ],
   "source": [
    "n=int(input(\"Enter the integer\"))\n",
    "\n",
    "def fact(n):\n",
    "    if n==0:\n",
    "        return 1\n",
    "    return n * fact(n-1)\n",
    "\n",
    "fact(n)"
   ]
  }
 ],
 "metadata": {
  "kernelspec": {
   "display_name": "Python 3.10.8 64-bit (microsoft store)",
   "language": "python",
   "name": "python3"
  },
  "language_info": {
   "codemirror_mode": {
    "name": "ipython",
    "version": 3
   },
   "file_extension": ".py",
   "mimetype": "text/x-python",
   "name": "python",
   "nbconvert_exporter": "python",
   "pygments_lexer": "ipython3",
   "version": "3.10.9"
  },
  "orig_nbformat": 4,
  "vscode": {
   "interpreter": {
    "hash": "f389eee305af4f8e6b58a879910ba6f668ddfe06e2dfdf2ff3f842b3dcc233e0"
   }
  }
 },
 "nbformat": 4,
 "nbformat_minor": 2
}
